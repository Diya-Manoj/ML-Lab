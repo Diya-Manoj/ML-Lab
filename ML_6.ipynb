{
  "cells": [
    {
      "cell_type": "markdown",
      "id": "4bea760a-5b5e-4053-88f1-d666adc37a5b",
      "metadata": {
        "id": "4bea760a-5b5e-4053-88f1-d666adc37a5b"
      },
      "source": [
        "# Reinforcement Learning (Part B)\n",
        "B. Solve the Taxi problem using reinforcement learning where the agent acts as a taxi\n",
        "driver to pick up a passenger at one location and then drop the passenger off at their\n",
        "destination."
      ]
    },
    {
      "cell_type": "code",
      "execution_count": 1,
      "id": "702fac08-8655-498c-95cf-ced7031df021",
      "metadata": {
        "id": "702fac08-8655-498c-95cf-ced7031df021"
      },
      "outputs": [],
      "source": [
        "import numpy as np\n",
        "import gymnasium as gym"
      ]
    },
    {
      "cell_type": "code",
      "execution_count": 2,
      "id": "38312e92-4af3-4d8a-b606-9b85937df9a3",
      "metadata": {
        "id": "38312e92-4af3-4d8a-b606-9b85937df9a3"
      },
      "outputs": [],
      "source": [
        "# Create Taxi environment with ANSI render mode (so it prints in notebook)\n",
        "env = gym.make(\"Taxi-v3\", render_mode=\"ansi\")"
      ]
    },
    {
      "cell_type": "code",
      "execution_count": 3,
      "id": "cf145d77-03ff-4d6c-85be-62743f37351a",
      "metadata": {
        "id": "cf145d77-03ff-4d6c-85be-62743f37351a"
      },
      "outputs": [],
      "source": [
        "# Initialize Q-table\n",
        "state_size = env.observation_space.n   # total states\n",
        "action_size = env.action_space.n       # total actions\n",
        "Q = np.zeros((state_size, action_size))"
      ]
    },
    {
      "cell_type": "code",
      "execution_count": 4,
      "id": "bca53f0e-9bed-4b8b-afd6-c4a2efed9452",
      "metadata": {
        "id": "bca53f0e-9bed-4b8b-afd6-c4a2efed9452"
      },
      "outputs": [],
      "source": [
        "# Hyperparameters\n",
        "alpha = 0.1      # Learning rate\n",
        "gamma = 0.6      # Discount factor\n",
        "epsilon = 0.1    # Exploration-exploitation\n",
        "episodes = 10000 # Training episodes"
      ]
    },
    {
      "cell_type": "code",
      "execution_count": 5,
      "id": "2200fedf-489c-497b-a3e0-b18c82f4e168",
      "metadata": {
        "colab": {
          "base_uri": "https://localhost:8080/"
        },
        "id": "2200fedf-489c-497b-a3e0-b18c82f4e168",
        "outputId": "aa1c9b53-b844-400c-f5b5-83e1144cff60"
      },
      "outputs": [
        {
          "output_type": "stream",
          "name": "stdout",
          "text": [
            "Training finished!\n",
            "\n"
          ]
        }
      ],
      "source": [
        "# Training loop\n",
        "for episode in range(episodes):\n",
        "    state, _ = env.reset()\n",
        "    done = False\n",
        "\n",
        "    while not done:\n",
        "        # Exploration-exploitation tradeoff\n",
        "        if np.random.uniform(0, 1) < epsilon: # epsilon-greedy policy\n",
        "            action = env.action_space.sample()  # explore = random actions\n",
        "        else:\n",
        "            action = np.argmax(Q[state])        # exploit = best known actions\n",
        "\n",
        "        next_state, reward, done, truncated, info = env.step(action)\n",
        "\n",
        "        # Q-Learning update = Bellman Equation\n",
        "        Q[state, action] = Q[state, action] + alpha * (\n",
        "            reward + gamma * np.max(Q[next_state]) - Q[state, action]\n",
        "        )\n",
        "\n",
        "        state = next_state\n",
        "\n",
        "print(\"Training finished!\\n\")"
      ]
    },
    {
      "cell_type": "code",
      "execution_count": 6,
      "id": "ce1bcfce-c291-4605-9a58-f5d76c94c08a",
      "metadata": {
        "colab": {
          "base_uri": "https://localhost:8080/"
        },
        "id": "ce1bcfce-c291-4605-9a58-f5d76c94c08a",
        "outputId": "9de5f137-7de2-41f0-f424-e899d9fc81f4"
      },
      "outputs": [
        {
          "output_type": "stream",
          "name": "stdout",
          "text": [
            "+---------+\n",
            "|R: | : :G|\n",
            "| : | : : |\n",
            "| : : : :\u001b[43m \u001b[0m|\n",
            "| | : | : |\n",
            "|\u001b[34;1mY\u001b[0m| : |\u001b[35mB\u001b[0m: |\n",
            "+---------+\n",
            "\n",
            "\n",
            "+---------+\n",
            "|R: | : :G|\n",
            "| : | : : |\n",
            "| : : :\u001b[43m \u001b[0m: |\n",
            "| | : | : |\n",
            "|\u001b[34;1mY\u001b[0m| : |\u001b[35mB\u001b[0m: |\n",
            "+---------+\n",
            "  (West)\n",
            "\n",
            "+---------+\n",
            "|R: | : :G|\n",
            "| : | : : |\n",
            "| : :\u001b[43m \u001b[0m: : |\n",
            "| | : | : |\n",
            "|\u001b[34;1mY\u001b[0m| : |\u001b[35mB\u001b[0m: |\n",
            "+---------+\n",
            "  (West)\n",
            "\n",
            "+---------+\n",
            "|R: | : :G|\n",
            "| : | : : |\n",
            "| :\u001b[43m \u001b[0m: : : |\n",
            "| | : | : |\n",
            "|\u001b[34;1mY\u001b[0m| : |\u001b[35mB\u001b[0m: |\n",
            "+---------+\n",
            "  (West)\n",
            "\n",
            "+---------+\n",
            "|R: | : :G|\n",
            "| : | : : |\n",
            "|\u001b[43m \u001b[0m: : : : |\n",
            "| | : | : |\n",
            "|\u001b[34;1mY\u001b[0m| : |\u001b[35mB\u001b[0m: |\n",
            "+---------+\n",
            "  (West)\n",
            "\n",
            "+---------+\n",
            "|R: | : :G|\n",
            "| : | : : |\n",
            "| : : : : |\n",
            "|\u001b[43m \u001b[0m| : | : |\n",
            "|\u001b[34;1mY\u001b[0m| : |\u001b[35mB\u001b[0m: |\n",
            "+---------+\n",
            "  (South)\n",
            "\n",
            "+---------+\n",
            "|R: | : :G|\n",
            "| : | : : |\n",
            "| : : : : |\n",
            "| | : | : |\n",
            "|\u001b[34;1m\u001b[43mY\u001b[0m\u001b[0m| : |\u001b[35mB\u001b[0m: |\n",
            "+---------+\n",
            "  (South)\n",
            "\n",
            "+---------+\n",
            "|R: | : :G|\n",
            "| : | : : |\n",
            "| : : : : |\n",
            "| | : | : |\n",
            "|\u001b[42mY\u001b[0m| : |\u001b[35mB\u001b[0m: |\n",
            "+---------+\n",
            "  (Pickup)\n",
            "\n",
            "+---------+\n",
            "|R: | : :G|\n",
            "| : | : : |\n",
            "| : : : : |\n",
            "|\u001b[42m_\u001b[0m| : | : |\n",
            "|Y| : |\u001b[35mB\u001b[0m: |\n",
            "+---------+\n",
            "  (North)\n",
            "\n",
            "+---------+\n",
            "|R: | : :G|\n",
            "| : | : : |\n",
            "|\u001b[42m_\u001b[0m: : : : |\n",
            "| | : | : |\n",
            "|Y| : |\u001b[35mB\u001b[0m: |\n",
            "+---------+\n",
            "  (North)\n",
            "\n",
            "+---------+\n",
            "|R: | : :G|\n",
            "| : | : : |\n",
            "| :\u001b[42m_\u001b[0m: : : |\n",
            "| | : | : |\n",
            "|Y| : |\u001b[35mB\u001b[0m: |\n",
            "+---------+\n",
            "  (East)\n",
            "\n",
            "+---------+\n",
            "|R: | : :G|\n",
            "| : | : : |\n",
            "| : :\u001b[42m_\u001b[0m: : |\n",
            "| | : | : |\n",
            "|Y| : |\u001b[35mB\u001b[0m: |\n",
            "+---------+\n",
            "  (East)\n",
            "\n",
            "+---------+\n",
            "|R: | : :G|\n",
            "| : | : : |\n",
            "| : : :\u001b[42m_\u001b[0m: |\n",
            "| | : | : |\n",
            "|Y| : |\u001b[35mB\u001b[0m: |\n",
            "+---------+\n",
            "  (East)\n",
            "\n",
            "+---------+\n",
            "|R: | : :G|\n",
            "| : | : : |\n",
            "| : : : : |\n",
            "| | : |\u001b[42m_\u001b[0m: |\n",
            "|Y| : |\u001b[35mB\u001b[0m: |\n",
            "+---------+\n",
            "  (South)\n",
            "\n",
            "+---------+\n",
            "|R: | : :G|\n",
            "| : | : : |\n",
            "| : : : : |\n",
            "| | : | : |\n",
            "|Y| : |\u001b[35m\u001b[42mB\u001b[0m\u001b[0m: |\n",
            "+---------+\n",
            "  (South)\n",
            "\n",
            "+---------+\n",
            "|R: | : :G|\n",
            "| : | : : |\n",
            "| : : : : |\n",
            "| | : | : |\n",
            "|Y| : |\u001b[35m\u001b[34;1m\u001b[43mB\u001b[0m\u001b[0m\u001b[0m: |\n",
            "+---------+\n",
            "  (Dropoff)\n",
            "\n"
          ]
        }
      ],
      "source": [
        "# ---------------- Testing the trained agent ----------------\n",
        "state, _ = env.reset()\n",
        "print(env.render())   # Initial state\n",
        "\n",
        "done = False\n",
        "steps = 0\n",
        "while not done:\n",
        "    action = np.argmax(Q[state])  # Best action\n",
        "    state, reward, done, truncated, info = env.step(action)\n",
        "\n",
        "    # Print environment after each step\n",
        "    print(env.render())\n",
        "\n",
        "    steps += 1"
      ]
    },
    {
      "cell_type": "code",
      "execution_count": 7,
      "id": "8ecbfc8a-3dff-4678-b675-69653d744c93",
      "metadata": {
        "colab": {
          "base_uri": "https://localhost:8080/"
        },
        "id": "8ecbfc8a-3dff-4678-b675-69653d744c93",
        "outputId": "7b05917c-d5ec-405f-b47e-c93898a6c956"
      },
      "outputs": [
        {
          "output_type": "stream",
          "name": "stdout",
          "text": [
            "Episode finished in 15 steps with reward 20\n"
          ]
        }
      ],
      "source": [
        "print(f\"Episode finished in {steps} steps with reward {reward}\")\n",
        "env.close()"
      ]
    }
  ],
  "metadata": {
    "kernelspec": {
      "display_name": "Python [conda env:base] *",
      "language": "python",
      "name": "conda-base-py"
    },
    "language_info": {
      "codemirror_mode": {
        "name": "ipython",
        "version": 3
      },
      "file_extension": ".py",
      "mimetype": "text/x-python",
      "name": "python",
      "nbconvert_exporter": "python",
      "pygments_lexer": "ipython3",
      "version": "3.13.5"
    },
    "colab": {
      "provenance": []
    }
  },
  "nbformat": 4,
  "nbformat_minor": 5
}